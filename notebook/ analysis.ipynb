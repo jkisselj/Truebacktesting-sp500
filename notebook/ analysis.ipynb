{
 "cells": [
  {
   "cell_type": "code",
   "execution_count": null,
   "metadata": {
    "vscode": {
     "languageId": "plaintext"
    }
   },
   "outputs": [],
   "source": [
    "\"C:\\\\Users\\\\Acer\\\\AppData\\\\Local\\\\Temp\\\\ipykernel_5548\\\\2126207049.py:32: PerformanceWarning: DataFrame is highly fragmented.  This is usually the result of calling `frame.insert` many times, which has poor performance.  Consider joining all columns at once using pd.concat(axis=1) instead. To get a de-fragmented frame, use `newframe = frame.copy()`\\n\",\n",
    "      \"  outliers['Ticker'] = ticker\\n\",\n",
    "      \"C:\\\\Users\\\\Acer\\\\AppData\\\\Local\\\\Temp\\\\ipykernel_5548\\\\2126207049.py:32: PerformanceWarning: DataFrame is highly fragmented.  This is usually the result of calling `frame.insert` many times, which has poor performance.  Consider joining all columns at once using pd.concat(axis=1) instead. To get a de-fragmented frame, use `newframe = frame.copy()`\\n\",\n",
    "      \"  outliers['Ticker'] = ticker\\n\",\n",
    "      \"C:\\\\Users\\\\Acer\\\\AppData\\\\Local\\\\Temp\\\\ipykernel_5548\\\\2126207049.py:32: PerformanceWarning: DataFrame is highly fragmented.  This is usually the result of calling `frame.insert` many times, which has poor performance.  Consider joining all columns at once using pd.concat(axis=1) instead. To get a de-fragmented frame, use `newframe = frame.copy()`\\n\","
   ]
  }
 ],
 "metadata": {
  "language_info": {
   "name": "python"
  }
 },
 "nbformat": 4,
 "nbformat_minor": 2
}
